{
 "cells": [
  {
   "cell_type": "code",
   "execution_count": 3,
   "metadata": {},
   "outputs": [],
   "source": [
    "# import pickle,os\n",
    "\n",
    "# def load_pkl_file(pkl_file_path):\n",
    "#     with open(pkl_file_path, 'rb') as file:\n",
    "#         data = pickle.load(file)  # Deserialize the object from the .pkl file\n",
    "#     return data\n",
    "\n",
    "# PHOTO_DIRECTORY = '/Users/andreiprokhorov/andreip@uchicago.edu - Google Drive/My Drive/Colab Notebooks/Comets_Bodybuilding/Bodybuilding_competition/Thumbnails' # Replace with your actual photos directory path\n",
    "# PICKLE_DIRECTORY='/Users/andreiprokhorov/andreip@uchicago.edu - Google Drive/My Drive/Colab Notebooks/Comets_Bodybuilding/Bodybuilding_competition/Pickles'\n",
    "# # Example usage\n",
    "# filenames = os.listdir(PICKLE_DIRECTORY)\n",
    "\n",
    "# base_pkl_file_path = '/Users/andreiprokhorov/andreip@uchicago.edu - Google Drive/My Drive/Colab Notebooks/Comets_Bodybuilding/Bodybuilding_competition/Pickles'  # Replace with the actual file path\n",
    "# data = load_pkl_file(pkl_file_path)\n",
    "\n",
    "# # Now you can work with the loaded data\n",
    "# batches=data['photo_filenames'].values\n",
    "# batches=batches.tolist()\n",
    "# batches = [\n",
    "#     [f\"{filename[:-4]}_thumb{filename[-4:]}\" for filename in batch]  # Append \"_thumb\" before the file extension\n",
    "#     for batch in batches\n",
    "# ]"
   ]
  },
  {
   "cell_type": "code",
   "execution_count": 19,
   "metadata": {},
   "outputs": [
    {
     "data": {
      "text/plain": [
       "[(\"ifbb_IFBB Tokyo Pro_2024_MEN'S PHYSIQUE_open_Minsu Kim_235_thumb.jpg\",\n",
       "  \"ifbb_IFBB Tokyo Pro_2024_MEN'S PHYSIQUE_open_Minsu Kim_433_thumb.jpg\"),\n",
       " (\"ifbb_IFBB Tokyo Pro_2024_MEN'S PHYSIQUE_open_Junpei Taguchi_035_thumb.jpg\",\n",
       "  \"ifbb_IFBB Tokyo Pro_2024_MEN'S PHYSIQUE_open_Junpei Taguchi_353_thumb.jpg\"),\n",
       " (\"ifbb_IFBB Tokyo Pro_2024_MEN'S PHYSIQUE_open_Rahul Paswan_156_thumb.jpg\",\n",
       "  \"ifbb_IFBB Tokyo Pro_2024_MEN'S PHYSIQUE_open_Rahul Paswan_358_thumb.jpg\"),\n",
       " (\"ifbb_IFBB Tokyo Pro_2024_MEN'S PHYSIQUE_open_Shogo Sato_171_thumb.jpg\",\n",
       "  \"ifbb_IFBB Tokyo Pro_2024_MEN'S PHYSIQUE_open_Shogo Sato_424_thumb.jpg\"),\n",
       " (\"ifbb_IFBB Tokyo Pro_2024_MEN'S PHYSIQUE_open_Joshua Eng_175_thumb.jpg\",\n",
       "  \"ifbb_IFBB Tokyo Pro_2024_MEN'S PHYSIQUE_open_Joshua Eng_403_thumb.jpg\"),\n",
       " (\"ifbb_IFBB Tokyo Pro_2024_MEN'S PHYSIQUE_open_Shun Kaneko_171_thumb.jpg\",\n",
       "  \"ifbb_IFBB Tokyo Pro_2024_MEN'S PHYSIQUE_open_Shun Kaneko_352_thumb.jpg\"),\n",
       " (\"ifbb_IFBB Tokyo Pro_2024_MEN'S PHYSIQUE_open_Junho Lee_122_thumb.jpg\",\n",
       "  \"ifbb_IFBB Tokyo Pro_2024_MEN'S PHYSIQUE_open_Junho Lee_439_thumb.jpg\"),\n",
       " (\"ifbb_IFBB Tokyo Pro_2024_MEN'S PHYSIQUE_open_Shintaro Manago_140_thumb.jpg\",\n",
       "  \"ifbb_IFBB Tokyo Pro_2024_MEN'S PHYSIQUE_open_Shintaro Manago_382_thumb.jpg\"),\n",
       " (\"ifbb_IFBB Tokyo Pro_2024_MEN'S PHYSIQUE_open_Munkhod Munkhnar_140_thumb.jpg\",\n",
       "  \"ifbb_IFBB Tokyo Pro_2024_MEN'S PHYSIQUE_open_Munkhod Munkhnar_429_thumb.jpg\"),\n",
       " (\"ifbb_IFBB Tokyo Pro_2024_MEN'S PHYSIQUE_open_Jin Koike_142_thumb.jpg\",\n",
       "  \"ifbb_IFBB Tokyo Pro_2024_MEN'S PHYSIQUE_open_Jin Koike_246_thumb.jpg\"),\n",
       " (\"ifbb_IFBB Tokyo Pro_2024_MEN'S PHYSIQUE_open_Sing Cheung_144_thumb.jpg\",\n",
       "  \"ifbb_IFBB Tokyo Pro_2024_MEN'S PHYSIQUE_open_Sing Cheung_334_thumb.jpg\"),\n",
       " (\"ifbb_IFBB Tokyo Pro_2024_MEN'S PHYSIQUE_open_Cj Kim_141_thumb.jpg\",\n",
       "  \"ifbb_IFBB Tokyo Pro_2024_MEN'S PHYSIQUE_open_Cj Kim_353_thumb.jpg\"),\n",
       " (\"ifbb_IFBB Tokyo Pro_2024_MEN'S PHYSIQUE_open_Sean Maruo_127_thumb.jpg\",\n",
       "  \"ifbb_IFBB Tokyo Pro_2024_MEN'S PHYSIQUE_open_Sean Maruo_263_thumb.jpg\"),\n",
       " (\"ifbb_IFBB Tokyo Pro_2024_MEN'S PHYSIQUE_open_Andre Adams_232_thumb.jpg\",\n",
       "  \"ifbb_IFBB Tokyo Pro_2024_MEN'S PHYSIQUE_open_Andre Adams_442_thumb.jpg\"),\n",
       " (\"ifbb_IFBB Tokyo Pro_2024_MEN'S PHYSIQUE_open_Eric Neal_291_thumb.jpg\",\n",
       "  \"ifbb_IFBB Tokyo Pro_2024_MEN'S PHYSIQUE_open_Eric Neal_442_thumb.jpg\"),\n",
       " (\"ifbb_IFBB Tokyo Pro_2024_MEN'S PHYSIQUE_open_Harvey Devanadera_214_thumb.jpg\",\n",
       "  \"ifbb_IFBB Tokyo Pro_2024_MEN'S PHYSIQUE_open_Harvey Devanadera_340_thumb.jpg\"),\n",
       " (\"ifbb_IFBB Tokyo Pro_2024_MEN'S PHYSIQUE_open_Kyungkeun Kwon_191_thumb.jpg\",\n",
       "  \"ifbb_IFBB Tokyo Pro_2024_MEN'S PHYSIQUE_open_Kyungkeun Kwon_365_thumb.jpg\"),\n",
       " (\"ifbb_IFBB Tokyo Pro_2024_MEN'S PHYSIQUE_open_Nobuyuki Ichikawa_215_thumb.jpg\",\n",
       "  \"ifbb_IFBB Tokyo Pro_2024_MEN'S PHYSIQUE_open_Nobuyuki Ichikawa_307_thumb.jpg\"),\n",
       " (\"ifbb_IFBB Tokyo Pro_2024_MEN'S PHYSIQUE_open_RYO TERASHIMA_245_thumb.jpg\",\n",
       "  \"ifbb_IFBB Tokyo Pro_2024_MEN'S PHYSIQUE_open_RYO TERASHIMA_335_thumb.jpg\"),\n",
       " (\"ifbb_IFBB Tokyo Pro_2024_MEN'S PHYSIQUE_open_Ryota Hayashi_143_thumb.jpg\",\n",
       "  \"ifbb_IFBB Tokyo Pro_2024_MEN'S PHYSIQUE_open_Ryota Hayashi_501_thumb.jpg\"),\n",
       " (\"ifbb_IFBB Tokyo Pro_2024_MEN'S PHYSIQUE_open_Syahputra Dedy_122_thumb.jpg\",\n",
       "  \"ifbb_IFBB Tokyo Pro_2024_MEN'S PHYSIQUE_open_Syahputra Dedy_350_thumb.jpg\"),\n",
       " (\"ifbb_IFBB Tokyo Pro_2024_MEN'S PHYSIQUE_open_Tsutomu Suzuki_306_thumb.jpg\",\n",
       "  \"ifbb_IFBB Tokyo Pro_2024_MEN'S PHYSIQUE_open_Tsutomu Suzuki_357_thumb.jpg\"),\n",
       " (\"ifbb_IFBB Tokyo Pro_2024_MEN'S PHYSIQUE_open_Yang Luyi_231_thumb.jpg\",\n",
       "  \"ifbb_IFBB Tokyo Pro_2024_MEN'S PHYSIQUE_open_Yang Luyi_426_thumb.jpg\"),\n",
       " (\"ifbb_IFBB Tokyo Pro_2024_MEN'S PHYSIQUE_open_muneaki okamura_140_thumb.jpg\",\n",
       "  \"ifbb_IFBB Tokyo Pro_2024_MEN'S PHYSIQUE_open_muneaki okamura_351_thumb.jpg\")]"
      ]
     },
     "execution_count": 19,
     "metadata": {},
     "output_type": "execute_result"
    }
   ],
   "source": [
    "string_list"
   ]
  },
  {
   "cell_type": "code",
   "execution_count": 12,
   "metadata": {},
   "outputs": [],
   "source": [
    "import pickle\n",
    "\n",
    "# Step 1: Load the .pkl file\n",
    "pkl_name=filenames[99]\n",
    "with open(PICKLE_DIRECTORY+'/'+pkl_name, 'rb') as file:\n",
    "    string_list = pickle.load(file)  # The list of strings is now in string_list\n",
    "\n",
    "\n"
   ]
  },
  {
   "cell_type": "code",
   "execution_count": null,
   "metadata": {},
   "outputs": [],
   "source": [
    "string_list.index((\"ifbb_IFBB Tokyo Pro_2024_MEN'S PHYSIQUE_open_Joshua Eng_049_thumb.jpg\",\n",
    "  \"ifbb_IFBB Tokyo Pro_2024_MEN'S PHYSIQUE_open_Joshua Eng_049_thumb.jpg\"))\n",
    "\n",
    "string_list[4]=(\"ifbb_IFBB Tokyo Pro_2024_MEN'S PHYSIQUE_open_Joshua Eng_175_thumb.jpg\",\n",
    "  \"ifbb_IFBB Tokyo Pro_2024_MEN'S PHYSIQUE_open_Joshua Eng_403_thumb.jpg\")"
   ]
  },
  {
   "cell_type": "code",
   "execution_count": 15,
   "metadata": {},
   "outputs": [],
   "source": [
    "string_list.index( (\"ifbb_IFBB Tokyo Pro_2024_MEN'S PHYSIQUE_open_Kyungkeun Kwon_333_thumb.jpg\",\n",
    "  \"ifbb_IFBB Tokyo Pro_2024_MEN'S PHYSIQUE_open_Kyungkeun Kwon_217_thumb.jpg\"))\n",
    "\n",
    "string_list[16]= (\"ifbb_IFBB Tokyo Pro_2024_MEN'S PHYSIQUE_open_Kyungkeun Kwon_191_thumb.jpg\",\n",
    "  \"ifbb_IFBB Tokyo Pro_2024_MEN'S PHYSIQUE_open_Kyungkeun Kwon_365_thumb.jpg\")"
   ]
  },
  {
   "cell_type": "code",
   "execution_count": 18,
   "metadata": {},
   "outputs": [],
   "source": [
    "string_list.index( (\"ifbb_IFBB Tokyo Pro_2024_MEN'S PHYSIQUE_open_Shintaro Manago_173_thumb.jpg\",\n",
    "  \"ifbb_IFBB Tokyo Pro_2024_MEN'S PHYSIQUE_open_Shintaro Manago_411_thumb.jpg\"))\n",
    "\n",
    "string_list[7]= (\"ifbb_IFBB Tokyo Pro_2024_MEN'S PHYSIQUE_open_Shintaro Manago_140_thumb.jpg\",\n",
    "  \"ifbb_IFBB Tokyo Pro_2024_MEN'S PHYSIQUE_open_Shintaro Manago_382_thumb.jpg\")"
   ]
  },
  {
   "cell_type": "code",
   "execution_count": 20,
   "metadata": {},
   "outputs": [],
   "source": [
    "with open(PICKLE_DIRECTORY+'/'+pkl_name, 'wb') as file:\n",
    "    pickle.dump(string_list, file)"
   ]
  },
  {
   "cell_type": "code",
   "execution_count": 1,
   "metadata": {},
   "outputs": [
    {
     "data": {
      "text/plain": [
       "'ifbb_IFBB Europa Pro_2024.pkl'"
      ]
     },
     "execution_count": 1,
     "metadata": {},
     "output_type": "execute_result"
    }
   ],
   "source": [
    "#filenames = os.listdir('/Users/andreiprokhorov/andreip@uchicago.edu - Google Drive/My Drive/Colab Notebooks/Comets_Bodybuilding/Bodybuilding_competition/Pickles')\n",
    "import os\n",
    "\n",
    "PICKLE_DIRECTORY='/Users/andreiprokhorov/andreip@uchicago.edu - Google Drive/My Drive/Colab Notebooks/Comets_Bodybuilding/Bodybuilding_competition/Pickles'\n",
    "# Example usage\n",
    "filenames = os.listdir(PICKLE_DIRECTORY)\n",
    "filenames=sorted(filenames)\n",
    "filenames=sorted(filenames)\n",
    "filenames.index('ifbb_IFBB Flex Pro_2024.pkl')\n",
    "filenames[33]"
   ]
  },
  {
   "cell_type": "code",
   "execution_count": null,
   "metadata": {},
   "outputs": [],
   "source": []
  },
  {
   "cell_type": "code",
   "execution_count": 2,
   "metadata": {},
   "outputs": [
    {
     "data": {
      "text/plain": [
       "96"
      ]
     },
     "execution_count": 2,
     "metadata": {},
     "output_type": "execute_result"
    }
   ],
   "source": [
    "len(filenames)"
   ]
  },
  {
   "cell_type": "code",
   "execution_count": 9,
   "metadata": {},
   "outputs": [
    {
     "data": {
      "text/plain": [
       "['cpa_CPA PEI Physique Championships_2024.pkl']"
      ]
     },
     "execution_count": 9,
     "metadata": {},
     "output_type": "execute_result"
    }
   ],
   "source": [
    "filenames[4:5]"
   ]
  },
  {
   "cell_type": "code",
   "execution_count": 10,
   "metadata": {},
   "outputs": [
    {
     "name": "stdout",
     "output_type": "stream",
     "text": [
      "Processing:  cpa_CPA PEI Physique Championships_2024\n",
      "There are  7  athletes\n"
     ]
    },
    {
     "name": "stderr",
     "output_type": "stream",
     "text": [
      "2024-11-21 11:01:05.894 python[52304:6969219] +[IMKClient subclass]: chose IMKClient_Legacy\n",
      "2024-11-21 11:01:05.894 python[52304:6969219] +[IMKInputSession subclass]: chose IMKInputSession_Legacy\n"
     ]
    },
    {
     "name": "stdout",
     "output_type": "stream",
     "text": [
      "Front photo selected: cpa_CPA PEI Physique Championships_2024_MEN'S PHYSIQUE_open_Paul Matheson_000_thumb.jpg\n",
      "Back photo selected: cpa_CPA PEI Physique Championships_2024_MEN'S PHYSIQUE_open_Paul Matheson_002_thumb.jpg\n",
      "Front photo selected: cpa_CPA PEI Physique Championships_2024_MEN'S PHYSIQUE_open_Todd Ross_001_thumb.jpg\n",
      "Back photo selected: cpa_CPA PEI Physique Championships_2024_MEN'S PHYSIQUE_open_Todd Ross_003_thumb.jpg\n",
      "Front photo selected: cpa_CPA PEI Physique Championships_2024_MEN'S PHYSIQUE_open_Fredrick Sobrenilla_000_thumb.jpg\n",
      "Back photo selected: cpa_CPA PEI Physique Championships_2024_MEN'S PHYSIQUE_open_Fredrick Sobrenilla_003_thumb.jpg\n",
      "Front photo selected: cpa_CPA PEI Physique Championships_2024_MEN'S PHYSIQUE_open_Anthony Winston I I I_001_thumb.jpg\n",
      "Back photo selected: cpa_CPA PEI Physique Championships_2024_MEN'S PHYSIQUE_open_Anthony Winston I I I_003_thumb.jpg\n",
      "Front photo selected: cpa_CPA PEI Physique Championships_2024_MEN'S PHYSIQUE_open_Prasanna Tiwari_000_thumb.jpg\n",
      "Back photo selected: cpa_CPA PEI Physique Championships_2024_MEN'S PHYSIQUE_open_Prasanna Tiwari_002_thumb.jpg\n",
      "Front photo selected: cpa_CPA PEI Physique Championships_2024_MEN'S PHYSIQUE_open_Phil Crabbe_000_thumb.jpg\n",
      "Back photo selected: cpa_CPA PEI Physique Championships_2024_MEN'S PHYSIQUE_open_Phil Crabbe_003_thumb.jpg\n",
      "Front photo selected: cpa_CPA PEI Physique Championships_2024_MEN'S PHYSIQUE_open_Arman Askari Zadeh_000_thumb.jpg\n",
      "Back photo selected: cpa_CPA PEI Physique Championships_2024_MEN'S PHYSIQUE_open_Arman Askari Zadeh_003_thumb.jpg\n",
      "All batches completed.\n",
      "Selected photos: [(\"cpa_CPA PEI Physique Championships_2024_MEN'S PHYSIQUE_open_Paul Matheson_000_thumb.jpg\", \"cpa_CPA PEI Physique Championships_2024_MEN'S PHYSIQUE_open_Paul Matheson_002_thumb.jpg\"), (\"cpa_CPA PEI Physique Championships_2024_MEN'S PHYSIQUE_open_Todd Ross_001_thumb.jpg\", \"cpa_CPA PEI Physique Championships_2024_MEN'S PHYSIQUE_open_Todd Ross_003_thumb.jpg\"), (\"cpa_CPA PEI Physique Championships_2024_MEN'S PHYSIQUE_open_Fredrick Sobrenilla_000_thumb.jpg\", \"cpa_CPA PEI Physique Championships_2024_MEN'S PHYSIQUE_open_Fredrick Sobrenilla_003_thumb.jpg\"), (\"cpa_CPA PEI Physique Championships_2024_MEN'S PHYSIQUE_open_Anthony Winston I I I_001_thumb.jpg\", \"cpa_CPA PEI Physique Championships_2024_MEN'S PHYSIQUE_open_Anthony Winston I I I_003_thumb.jpg\"), (\"cpa_CPA PEI Physique Championships_2024_MEN'S PHYSIQUE_open_Prasanna Tiwari_000_thumb.jpg\", \"cpa_CPA PEI Physique Championships_2024_MEN'S PHYSIQUE_open_Prasanna Tiwari_002_thumb.jpg\"), (\"cpa_CPA PEI Physique Championships_2024_MEN'S PHYSIQUE_open_Phil Crabbe_000_thumb.jpg\", \"cpa_CPA PEI Physique Championships_2024_MEN'S PHYSIQUE_open_Phil Crabbe_003_thumb.jpg\"), (\"cpa_CPA PEI Physique Championships_2024_MEN'S PHYSIQUE_open_Arman Askari Zadeh_000_thumb.jpg\", \"cpa_CPA PEI Physique Championships_2024_MEN'S PHYSIQUE_open_Arman Askari Zadeh_003_thumb.jpg\")]\n",
      "Selections saved to  /Users/andreiprokhorov/andreip@uchicago.edu - Google Drive/My Drive/Colab Notebooks/Comets_Bodybuilding/Bodybuilding_competition/Pickles/cpa_CPA PEI Physique Championships_2024_selected_photos.pkl\n"
     ]
    },
    {
     "ename": "",
     "evalue": "",
     "output_type": "error",
     "traceback": [
      "\u001b[1;31mThe Kernel crashed while executing code in the current cell or a previous cell. \n",
      "\u001b[1;31mPlease review the code in the cell(s) to identify a possible cause of the failure. \n",
      "\u001b[1;31mClick <a href='https://aka.ms/vscodeJupyterKernelCrash'>here</a> for more info. \n",
      "\u001b[1;31mView Jupyter <a href='command:jupyter.viewOutput'>log</a> for further details."
     ]
    }
   ],
   "source": [
    "import os\n",
    "import tkinter as tk\n",
    "import pickle\n",
    "from PIL import Image, ImageTk\n",
    "\n",
    "# ----------------------- Configuration -----------------------\n",
    "\n",
    "# PHOTO_DIRECTORY = 'path_to_your_photos_directory'  # Replace with your actual photos directory path\n",
    "# batches = [\n",
    "#     # Assuming you have up to 300 photo filenames per batch as needed\n",
    "#     [f'photo{i+1}_thumb.jpg' for i in range(300)],  # Batch 1\n",
    "#     [f'photo{i+301}_thumb.jpg' for i in range(300)],  # Batch 2\n",
    "#     # Add more batches as needed\n",
    "# ]\n",
    "\n",
    "def load_pkl_file(pkl_file_path):\n",
    "    with open(pkl_file_path, 'rb') as file:\n",
    "        data = pickle.load(file)  # Deserialize the object from the .pkl file\n",
    "    return data\n",
    "\n",
    "PHOTO_DIRECTORY = '/Users/andreiprokhorov/andreip@uchicago.edu - Google Drive/My Drive/Colab Notebooks/Comets_Bodybuilding/Bodybuilding_competition/Thumbnails' # Replace with your actual photos directory path\n",
    "PICKLE_DIRECTORY='/Users/andreiprokhorov/andreip@uchicago.edu - Google Drive/My Drive/Colab Notebooks/Comets_Bodybuilding/Bodybuilding_competition/Pickles'\n",
    "# Example usage\n",
    "filenames = os.listdir(PICKLE_DIRECTORY)\n",
    "filenames=sorted(filenames)\n",
    "PHOTOS_PER_PAGE = 90  # 15 columns * 7 rows\n",
    "COLUMNS = 15\n",
    "ROWS = 6\n",
    "\n",
    "# ----------------------- Utility Functions -----------------------\n",
    "\n",
    "class PhotoSelector:\n",
    "    def __init__(self, root, photo_batches):\n",
    "        self.root = root\n",
    "        self.root.title(\"Photo Selector\")\n",
    "        self.photo_batches = photo_batches\n",
    "        self.current_batch_index = 0\n",
    "        self.current_page = 0\n",
    "        self.selected_photos = []  # List to store selected photos [(front, back), ...]\n",
    "        self.selection_stage = 'front'  # Track whether selecting 'front' or 'back'\n",
    "        self.image_refs = []  # Keep references to images\n",
    "        self.create_grid()  # Load the first page of the first batch\n",
    "\n",
    "    def create_grid(self):\n",
    "        # Clear previous images and controls\n",
    "        for widget in self.root.winfo_children():\n",
    "            widget.destroy()\n",
    "        \n",
    "        # Determine current batch and page\n",
    "        current_batch = self.photo_batches[self.current_batch_index]\n",
    "        start_index = self.current_page * PHOTOS_PER_PAGE\n",
    "        end_index = start_index + PHOTOS_PER_PAGE\n",
    "        current_page_photos = current_batch[start_index:end_index]\n",
    "        self.image_refs = []  # Reset image references for the new page\n",
    "\n",
    "        # Display photos in a grid layout (15 columns by 7 rows)\n",
    "        for i, photo in enumerate(current_page_photos):\n",
    "            img_path = os.path.join(PHOTO_DIRECTORY, photo)\n",
    "            img = Image.open(img_path)\n",
    "            img.thumbnail((100, 100))  # Resize the images to fit better on the screen\n",
    "            img_tk = ImageTk.PhotoImage(img)\n",
    "            self.image_refs.append(img_tk)\n",
    "\n",
    "            label = tk.Label(self.root, image=img_tk)\n",
    "            label.grid(row=i // COLUMNS, column=i % COLUMNS, padx=5, pady=5)\n",
    "            label.bind(\"<Button-1>\", lambda e, p=photo: self.select_photo(p))\n",
    "\n",
    "        # Pagination controls\n",
    "        btn_frame = tk.Frame(self.root)\n",
    "        btn_frame.grid(row=ROWS + 1, column=0, columnspan=COLUMNS, pady=10)\n",
    "        \n",
    "        if self.current_page > 0:\n",
    "            prev_btn = tk.Button(btn_frame, text=\"Previous\", command=self.prev_page)\n",
    "            prev_btn.pack(side=tk.LEFT)\n",
    "        \n",
    "        if end_index < len(current_batch):\n",
    "            next_btn = tk.Button(btn_frame, text=\"Next\", command=self.next_page)\n",
    "            next_btn.pack(side=tk.RIGHT)\n",
    "\n",
    "    def select_photo(self, photo):\n",
    "        \"\"\"Record selected photo based on current stage and move to next batch if complete.\"\"\"\n",
    "        if self.selection_stage == 'front':\n",
    "            print(f\"Front photo selected: {photo}\")\n",
    "            self.selected_photos.append((photo, None))  # Temporary tuple\n",
    "            self.selection_stage = 'back'\n",
    "        elif self.selection_stage == 'back':\n",
    "            print(f\"Back photo selected: {photo}\")\n",
    "            self.selected_photos[-1] = (self.selected_photos[-1][0], photo)\n",
    "            self.selection_stage = 'front'  # Reset for the next batch\n",
    "            self.next_batch()\n",
    "\n",
    "    def next_batch(self):\n",
    "        \"\"\"Move to the next batch or save results if all batches are completed.\"\"\"\n",
    "        self.current_page = 0  # Reset page for new batch\n",
    "        self.current_batch_index += 1\n",
    "        if self.current_batch_index < len(self.photo_batches):\n",
    "            self.create_grid()  # Load the next batch\n",
    "        else:\n",
    "            print(\"All batches completed.\")\n",
    "            print(\"Selected photos:\", self.selected_photos)\n",
    "            self.save_selections()\n",
    "            self.root.destroy()  # Close the application after the last batch\n",
    "\n",
    "    def save_selections(self):\n",
    "        \"\"\"Save the selected photos to a .pkl file.\"\"\"\n",
    "        with open(new_pkl_name, \"wb\") as f:\n",
    "            pickle.dump(self.selected_photos, f)\n",
    "        print(\"Selections saved to \",new_pkl_name)\n",
    "\n",
    "    def next_page(self):\n",
    "        \"\"\"Load the next page within the current batch.\"\"\"\n",
    "        self.current_page += 1\n",
    "        self.create_grid()\n",
    "\n",
    "    def prev_page(self):\n",
    "        \"\"\"Load the previous page within the current batch.\"\"\"\n",
    "        if self.current_page > 0:\n",
    "            self.current_page -= 1\n",
    "            self.create_grid()\n",
    "\n",
    "# ----------------------- Main Function -----------------------\n",
    "\n",
    "for pkl_name in filenames[4:5]:\n",
    "\n",
    "    data = load_pkl_file(PICKLE_DIRECTORY+'/'+pkl_name)\n",
    "\n",
    "    # Now you can work with the loaded data\n",
    "    batches=data['photo_filenames'].values\n",
    "    batches=batches.tolist()\n",
    "    batches = [\n",
    "        [f\"{filename[:-4]}_thumb{filename[-4:]}\" for filename in batch]  # Append \"_thumb\" before the file extension\n",
    "        for batch in batches\n",
    "    ]\n",
    "\n",
    "    name, extension = os.path.splitext(pkl_name)\n",
    "        \n",
    "    # Create the new filename\n",
    "    new_pkl_name = f\"{name}_selected_photos{extension}\"\n",
    "    new_pkl_name=PICKLE_DIRECTORY+'/'+new_pkl_name\n",
    "    print('Processing: ',name)\n",
    "    print(\"There are \",len(batches),' athletes')\n",
    "\n",
    "    def main():\n",
    "        root = tk.Tk()\n",
    "        app = PhotoSelector(root, batches)\n",
    "        root.mainloop()\n",
    "\n",
    "    if __name__ == \"__main__\":\n",
    "        main()\n"
   ]
  },
  {
   "cell_type": "code",
   "execution_count": 7,
   "metadata": {},
   "outputs": [
    {
     "data": {
      "text/plain": [
       "['ifbb_IFBB Hong Kong SAR Pro_2024.pkl',\n",
       " 'ifbb_IFBB Huanji China Pro_2024.pkl',\n",
       " 'ifbb_IFBB Hurricane Pro_2024.pkl',\n",
       " 'ifbb_IFBB Italy Koloseum Pro_2024.pkl',\n",
       " 'ifbb_IFBB Kim Junho Korea Pro_2024.pkl',\n",
       " 'ifbb_IFBB Legion Pro_2024.pkl',\n",
       " 'ifbb_IFBB Lenda Murray Atlanta Pro_2024.pkl',\n",
       " 'ifbb_IFBB Los Angeles Grand Prix Pro_2024.pkl',\n",
       " 'ifbb_IFBB Mexico Grand Battle Pro_2024.pkl',\n",
       " 'ifbb_IFBB Miami Muscle Beach Pro_2024.pkl',\n",
       " 'ifbb_IFBB Mile High Pro_2024.pkl',\n",
       " 'ifbb_IFBB Mr Big Evolution Portugal Pro_2024.pkl',\n",
       " 'ifbb_IFBB Mr Olympia_2024.pkl',\n",
       " 'ifbb_IFBB Musclecontest Philippines Pro_2024.pkl',\n",
       " 'ifbb_IFBB New York Pro_2024.pkl',\n",
       " 'ifbb_IFBB Optimum Classic Pro_2024.pkl',\n",
       " 'ifbb_IFBB Pacific USA Pro_2024.pkl',\n",
       " 'ifbb_IFBB Phoenix Pro_2024.pkl',\n",
       " 'ifbb_IFBB Pittsburgh Pro_2024.pkl',\n",
       " 'ifbb_IFBB Pro Muscle Pro_2024.pkl',\n",
       " 'ifbb_IFBB Professional League China DMS Pro Shanghai_2024.pkl',\n",
       " 'ifbb_IFBB Republic of Texas Pro_2024.pkl',\n",
       " 'ifbb_IFBB San Antonio Pro_2024.pkl',\n",
       " 'ifbb_IFBB Sasquatch Pro_2024.pkl',\n",
       " 'ifbb_IFBB Sheru Classic Bharat Pro_2024.pkl',\n",
       " 'ifbb_IFBB St Pete Pro_2024.pkl',\n",
       " 'ifbb_IFBB St. Louis Pro_2024.pkl',\n",
       " 'ifbb_IFBB Tampa Pro_2024.pkl',\n",
       " 'ifbb_IFBB Texas Pro_2024.pkl',\n",
       " 'ifbb_IFBB Thailand Pro_2024.pkl',\n",
       " 'ifbb_IFBB Tokyo Pro_2024.pkl',\n",
       " 'ifbb_IFBB Toronto Pro Supershow_2024.pkl',\n",
       " 'ifbb_IFBB Tri-City Pro_2024.pkl',\n",
       " 'ifbb_IFBB Vancouver Pro_2024.pkl',\n",
       " 'ifbb_IFBB Wasatch Warrior Pro_2024.pkl',\n",
       " 'npc_NPC Idaho Cup Natural_2024.pkl',\n",
       " 'npc_NPC Vermont Championships_2024.pkl',\n",
       " 'npcw_NPC Worldwide Brisbane Championships_2024.pkl',\n",
       " 'npcw_NPC Worldwide Melbourne Championships_2024.pkl',\n",
       " 'npcw_NPC Worldwide Melbourne Season B_2024.pkl',\n",
       " 'npcw_NPC Worldwide Perth Championships_2024.pkl',\n",
       " 'npcw_NPC Worldwide Queensland State Championships_2024.pkl',\n",
       " 'npcw_NPC Worldwide South Australian State Championships_2024.pkl',\n",
       " 'npcw_NPC Worldwide Victoria State Championships_2024.pkl']"
      ]
     },
     "execution_count": 7,
     "metadata": {},
     "output_type": "execute_result"
    }
   ],
   "source": [
    "filenames[37:]"
   ]
  },
  {
   "cell_type": "code",
   "execution_count": null,
   "metadata": {},
   "outputs": [],
   "source": []
  }
 ],
 "metadata": {
  "kernelspec": {
   "display_name": "erdos",
   "language": "python",
   "name": "python3"
  },
  "language_info": {
   "codemirror_mode": {
    "name": "ipython",
    "version": 3
   },
   "file_extension": ".py",
   "mimetype": "text/x-python",
   "name": "python",
   "nbconvert_exporter": "python",
   "pygments_lexer": "ipython3",
   "version": "3.12.1"
  }
 },
 "nbformat": 4,
 "nbformat_minor": 2
}
